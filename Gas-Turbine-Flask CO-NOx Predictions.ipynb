{
 "cells": [
  {
   "cell_type": "markdown",
   "id": "ee5f3e77",
   "metadata": {},
   "source": [
    "# Gas-Turbine-Flask Predictions\n"
   ]
  },
  {
   "cell_type": "raw",
   "id": "346d81ca",
   "metadata": {},
   "source": [
    "In this project first take original dataset and then first we takes input of 9 data and predicting the CO and NOX values and then after that we combine with the data and then then we find the outlier and train them for CO I use IQR Outlier detections and for NOX i use Z-Score and after that I create 2 column for prediction it is outlier point or not. and then we balance the data and after saving all model we create a Flask for user preferences."
   ]
  },
  {
   "cell_type": "code",
   "execution_count": 1,
   "id": "070b0db2",
   "metadata": {},
   "outputs": [],
   "source": [
    "import warnings\n",
    "warnings.filterwarnings('ignore')\n",
    "import numpy as np\n",
    "import pandas as pd \n",
    "import matplotlib.pyplot as plt\n",
    "import seaborn as sns \n",
    "from mlxtend.plotting import plot_decision_regions"
   ]
  },
  {
   "cell_type": "code",
   "execution_count": 2,
   "id": "31440ab2",
   "metadata": {},
   "outputs": [],
   "source": [
    "from sklearn.model_selection import train_test_split,cross_val_score\n",
    "from sklearn.linear_model import LinearRegression,SGDRegressor\n",
    "from sklearn.metrics import r2_score,mean_absolute_error\n",
    "from sklearn.tree import DecisionTreeRegressor\n",
    "from sklearn.ensemble import RandomForestRegressor,VotingRegressor,BaggingRegressor"
   ]
  },
  {
   "cell_type": "code",
   "execution_count": 3,
   "id": "07c6702f",
   "metadata": {},
   "outputs": [
    {
     "data": {
      "text/html": [
       "<div>\n",
       "<style scoped>\n",
       "    .dataframe tbody tr th:only-of-type {\n",
       "        vertical-align: middle;\n",
       "    }\n",
       "\n",
       "    .dataframe tbody tr th {\n",
       "        vertical-align: top;\n",
       "    }\n",
       "\n",
       "    .dataframe thead th {\n",
       "        text-align: right;\n",
       "    }\n",
       "</style>\n",
       "<table border=\"1\" class=\"dataframe\">\n",
       "  <thead>\n",
       "    <tr style=\"text-align: right;\">\n",
       "      <th></th>\n",
       "      <th>AT</th>\n",
       "      <th>AP</th>\n",
       "      <th>AH</th>\n",
       "      <th>AFDP</th>\n",
       "      <th>GTEP</th>\n",
       "      <th>TIT</th>\n",
       "      <th>TAT</th>\n",
       "      <th>TEY</th>\n",
       "      <th>CDP</th>\n",
       "      <th>CO</th>\n",
       "      <th>NOX</th>\n",
       "    </tr>\n",
       "  </thead>\n",
       "  <tbody>\n",
       "    <tr>\n",
       "      <th>16779</th>\n",
       "      <td>11.797</td>\n",
       "      <td>1008.5</td>\n",
       "      <td>84.482</td>\n",
       "      <td>2.6308</td>\n",
       "      <td>19.011</td>\n",
       "      <td>1051.7</td>\n",
       "      <td>548.96</td>\n",
       "      <td>109.13</td>\n",
       "      <td>10.391</td>\n",
       "      <td>6.6984</td>\n",
       "      <td>97.071</td>\n",
       "    </tr>\n",
       "    <tr>\n",
       "      <th>5134</th>\n",
       "      <td>23.054</td>\n",
       "      <td>1014.8</td>\n",
       "      <td>80.945</td>\n",
       "      <td>3.1697</td>\n",
       "      <td>20.136</td>\n",
       "      <td>1060.7</td>\n",
       "      <td>550.03</td>\n",
       "      <td>112.17</td>\n",
       "      <td>10.641</td>\n",
       "      <td>2.3776</td>\n",
       "      <td>52.171</td>\n",
       "    </tr>\n",
       "    <tr>\n",
       "      <th>18685</th>\n",
       "      <td>25.446</td>\n",
       "      <td>1004.1</td>\n",
       "      <td>68.230</td>\n",
       "      <td>4.1564</td>\n",
       "      <td>25.990</td>\n",
       "      <td>1092.9</td>\n",
       "      <td>549.98</td>\n",
       "      <td>135.28</td>\n",
       "      <td>12.139</td>\n",
       "      <td>5.6531</td>\n",
       "      <td>62.823</td>\n",
       "    </tr>\n",
       "    <tr>\n",
       "      <th>9495</th>\n",
       "      <td>24.141</td>\n",
       "      <td>1014.6</td>\n",
       "      <td>53.273</td>\n",
       "      <td>5.1039</td>\n",
       "      <td>25.611</td>\n",
       "      <td>1091.6</td>\n",
       "      <td>549.61</td>\n",
       "      <td>133.70</td>\n",
       "      <td>12.077</td>\n",
       "      <td>1.2115</td>\n",
       "      <td>74.174</td>\n",
       "    </tr>\n",
       "  </tbody>\n",
       "</table>\n",
       "</div>"
      ],
      "text/plain": [
       "           AT      AP      AH    AFDP    GTEP     TIT     TAT     TEY     CDP  \\\n",
       "16779  11.797  1008.5  84.482  2.6308  19.011  1051.7  548.96  109.13  10.391   \n",
       "5134   23.054  1014.8  80.945  3.1697  20.136  1060.7  550.03  112.17  10.641   \n",
       "18685  25.446  1004.1  68.230  4.1564  25.990  1092.9  549.98  135.28  12.139   \n",
       "9495   24.141  1014.6  53.273  5.1039  25.611  1091.6  549.61  133.70  12.077   \n",
       "\n",
       "           CO     NOX  \n",
       "16779  6.6984  97.071  \n",
       "5134   2.3776  52.171  \n",
       "18685  5.6531  62.823  \n",
       "9495   1.2115  74.174  "
      ]
     },
     "execution_count": 3,
     "metadata": {},
     "output_type": "execute_result"
    }
   ],
   "source": [
    "Ordata = pd.read_csv('datasets/gt_full.csv')\n",
    "Ordata.sample(4)"
   ]
  },
  {
   "cell_type": "code",
   "execution_count": 3,
   "id": "66867e58",
   "metadata": {},
   "outputs": [
    {
     "data": {
      "text/plain": [
       "AT      0\n",
       "AP      0\n",
       "AH      0\n",
       "AFDP    0\n",
       "GTEP    0\n",
       "TIT     0\n",
       "TAT     0\n",
       "TEY     0\n",
       "CDP     0\n",
       "CO      0\n",
       "NOX     0\n",
       "dtype: int64"
      ]
     },
     "execution_count": 3,
     "metadata": {},
     "output_type": "execute_result"
    }
   ],
   "source": [
    "Ordata.isnull().sum()"
   ]
  },
  {
   "cell_type": "code",
   "execution_count": 5,
   "id": "807d269c",
   "metadata": {},
   "outputs": [
    {
     "data": {
      "text/html": [
       "<div>\n",
       "<style scoped>\n",
       "    .dataframe tbody tr th:only-of-type {\n",
       "        vertical-align: middle;\n",
       "    }\n",
       "\n",
       "    .dataframe tbody tr th {\n",
       "        vertical-align: top;\n",
       "    }\n",
       "\n",
       "    .dataframe thead th {\n",
       "        text-align: right;\n",
       "    }\n",
       "</style>\n",
       "<table border=\"1\" class=\"dataframe\">\n",
       "  <thead>\n",
       "    <tr style=\"text-align: right;\">\n",
       "      <th></th>\n",
       "      <th>count</th>\n",
       "      <th>mean</th>\n",
       "      <th>std</th>\n",
       "      <th>min</th>\n",
       "      <th>25%</th>\n",
       "      <th>50%</th>\n",
       "      <th>75%</th>\n",
       "      <th>max</th>\n",
       "    </tr>\n",
       "  </thead>\n",
       "  <tbody>\n",
       "    <tr>\n",
       "      <th>AT</th>\n",
       "      <td>36733.0</td>\n",
       "      <td>17.712726</td>\n",
       "      <td>7.447451</td>\n",
       "      <td>-6.234800</td>\n",
       "      <td>11.7810</td>\n",
       "      <td>17.8010</td>\n",
       "      <td>23.6650</td>\n",
       "      <td>37.1030</td>\n",
       "    </tr>\n",
       "    <tr>\n",
       "      <th>AP</th>\n",
       "      <td>36733.0</td>\n",
       "      <td>1013.070165</td>\n",
       "      <td>6.463346</td>\n",
       "      <td>985.850000</td>\n",
       "      <td>1008.8000</td>\n",
       "      <td>1012.6000</td>\n",
       "      <td>1017.0000</td>\n",
       "      <td>1036.6000</td>\n",
       "    </tr>\n",
       "    <tr>\n",
       "      <th>AH</th>\n",
       "      <td>36733.0</td>\n",
       "      <td>77.867015</td>\n",
       "      <td>14.461355</td>\n",
       "      <td>24.085000</td>\n",
       "      <td>68.1880</td>\n",
       "      <td>80.4700</td>\n",
       "      <td>89.3760</td>\n",
       "      <td>100.2000</td>\n",
       "    </tr>\n",
       "    <tr>\n",
       "      <th>AFDP</th>\n",
       "      <td>36733.0</td>\n",
       "      <td>3.925518</td>\n",
       "      <td>0.773936</td>\n",
       "      <td>2.087400</td>\n",
       "      <td>3.3556</td>\n",
       "      <td>3.9377</td>\n",
       "      <td>4.3769</td>\n",
       "      <td>7.6106</td>\n",
       "    </tr>\n",
       "    <tr>\n",
       "      <th>GTEP</th>\n",
       "      <td>36733.0</td>\n",
       "      <td>25.563801</td>\n",
       "      <td>4.195957</td>\n",
       "      <td>17.698000</td>\n",
       "      <td>23.1290</td>\n",
       "      <td>25.1040</td>\n",
       "      <td>29.0610</td>\n",
       "      <td>40.7160</td>\n",
       "    </tr>\n",
       "    <tr>\n",
       "      <th>TIT</th>\n",
       "      <td>36733.0</td>\n",
       "      <td>1081.428084</td>\n",
       "      <td>17.536373</td>\n",
       "      <td>1000.800000</td>\n",
       "      <td>1071.8000</td>\n",
       "      <td>1085.9000</td>\n",
       "      <td>1097.0000</td>\n",
       "      <td>1100.9000</td>\n",
       "    </tr>\n",
       "    <tr>\n",
       "      <th>TAT</th>\n",
       "      <td>36733.0</td>\n",
       "      <td>546.158517</td>\n",
       "      <td>6.842360</td>\n",
       "      <td>511.040000</td>\n",
       "      <td>544.7200</td>\n",
       "      <td>549.8800</td>\n",
       "      <td>550.0400</td>\n",
       "      <td>550.6100</td>\n",
       "    </tr>\n",
       "    <tr>\n",
       "      <th>TEY</th>\n",
       "      <td>36733.0</td>\n",
       "      <td>133.506404</td>\n",
       "      <td>15.618634</td>\n",
       "      <td>100.020000</td>\n",
       "      <td>124.4500</td>\n",
       "      <td>133.7300</td>\n",
       "      <td>144.0800</td>\n",
       "      <td>179.5000</td>\n",
       "    </tr>\n",
       "    <tr>\n",
       "      <th>CDP</th>\n",
       "      <td>36733.0</td>\n",
       "      <td>12.060525</td>\n",
       "      <td>1.088795</td>\n",
       "      <td>9.851800</td>\n",
       "      <td>11.4350</td>\n",
       "      <td>11.9650</td>\n",
       "      <td>12.8550</td>\n",
       "      <td>15.1590</td>\n",
       "    </tr>\n",
       "    <tr>\n",
       "      <th>CO</th>\n",
       "      <td>36733.0</td>\n",
       "      <td>2.372468</td>\n",
       "      <td>2.262672</td>\n",
       "      <td>0.000388</td>\n",
       "      <td>1.1824</td>\n",
       "      <td>1.7135</td>\n",
       "      <td>2.8429</td>\n",
       "      <td>44.1030</td>\n",
       "    </tr>\n",
       "    <tr>\n",
       "      <th>NOX</th>\n",
       "      <td>36733.0</td>\n",
       "      <td>65.293067</td>\n",
       "      <td>11.678357</td>\n",
       "      <td>25.905000</td>\n",
       "      <td>57.1620</td>\n",
       "      <td>63.8490</td>\n",
       "      <td>71.5480</td>\n",
       "      <td>119.9100</td>\n",
       "    </tr>\n",
       "  </tbody>\n",
       "</table>\n",
       "</div>"
      ],
      "text/plain": [
       "        count         mean        std          min        25%        50%  \\\n",
       "AT    36733.0    17.712726   7.447451    -6.234800    11.7810    17.8010   \n",
       "AP    36733.0  1013.070165   6.463346   985.850000  1008.8000  1012.6000   \n",
       "AH    36733.0    77.867015  14.461355    24.085000    68.1880    80.4700   \n",
       "AFDP  36733.0     3.925518   0.773936     2.087400     3.3556     3.9377   \n",
       "GTEP  36733.0    25.563801   4.195957    17.698000    23.1290    25.1040   \n",
       "TIT   36733.0  1081.428084  17.536373  1000.800000  1071.8000  1085.9000   \n",
       "TAT   36733.0   546.158517   6.842360   511.040000   544.7200   549.8800   \n",
       "TEY   36733.0   133.506404  15.618634   100.020000   124.4500   133.7300   \n",
       "CDP   36733.0    12.060525   1.088795     9.851800    11.4350    11.9650   \n",
       "CO    36733.0     2.372468   2.262672     0.000388     1.1824     1.7135   \n",
       "NOX   36733.0    65.293067  11.678357    25.905000    57.1620    63.8490   \n",
       "\n",
       "            75%        max  \n",
       "AT      23.6650    37.1030  \n",
       "AP    1017.0000  1036.6000  \n",
       "AH      89.3760   100.2000  \n",
       "AFDP     4.3769     7.6106  \n",
       "GTEP    29.0610    40.7160  \n",
       "TIT   1097.0000  1100.9000  \n",
       "TAT    550.0400   550.6100  \n",
       "TEY    144.0800   179.5000  \n",
       "CDP     12.8550    15.1590  \n",
       "CO       2.8429    44.1030  \n",
       "NOX     71.5480   119.9100  "
      ]
     },
     "execution_count": 5,
     "metadata": {},
     "output_type": "execute_result"
    }
   ],
   "source": [
    "Ordata.describe().T"
   ]
  },
  {
   "cell_type": "code",
   "execution_count": 13,
   "id": "4ff94a66",
   "metadata": {},
   "outputs": [
    {
     "name": "stdout",
     "output_type": "stream",
     "text": [
      "AT        -6.234800\n",
      "AP       985.850000\n",
      "AH        24.085000\n",
      "AFDP       2.087400\n",
      "GTEP      17.698000\n",
      "TIT     1000.800000\n",
      "TAT      511.040000\n",
      "TEY      100.020000\n",
      "CDP        9.851800\n",
      "CO         0.000388\n",
      "NOX       25.905000\n",
      "dtype: float64\n",
      "\n",
      "\n",
      "AT        37.1030\n",
      "AP      1036.6000\n",
      "AH       100.2000\n",
      "AFDP       7.6106\n",
      "GTEP      40.7160\n",
      "TIT     1100.9000\n",
      "TAT      550.6100\n",
      "TEY      179.5000\n",
      "CDP       15.1590\n",
      "CO        44.1030\n",
      "NOX      119.9100\n",
      "dtype: float64\n"
     ]
    }
   ],
   "source": [
    "print(Ordata.min())\n",
    "print(\"\\n\")\n",
    "print(Ordata.max())"
   ]
  },
  {
   "cell_type": "code",
   "execution_count": 14,
   "id": "87c26881",
   "metadata": {},
   "outputs": [
    {
     "name": "stdout",
     "output_type": "stream",
     "text": [
      "AT   -0.043547\n",
      "dtype: float64\n",
      "-------------------------\n",
      "AP    0.194121\n",
      "dtype: float64\n",
      "-------------------------\n",
      "AH   -0.628034\n",
      "dtype: float64\n",
      "-------------------------\n",
      "AFDP    0.381097\n",
      "dtype: float64\n",
      "-------------------------\n",
      "GTEP    0.329021\n",
      "dtype: float64\n",
      "-------------------------\n",
      "TIT   -0.888278\n",
      "dtype: float64\n",
      "-------------------------\n",
      "TAT   -1.755907\n",
      "dtype: float64\n",
      "-------------------------\n",
      "TEY    0.116555\n",
      "dtype: float64\n",
      "-------------------------\n",
      "CDP    0.236792\n",
      "dtype: float64\n",
      "-------------------------\n",
      "CO    4.838174\n",
      "dtype: float64\n",
      "-------------------------\n",
      "NOX    1.026779\n",
      "dtype: float64\n",
      "-------------------------\n"
     ]
    }
   ],
   "source": [
    "for i in range(0,11):\n",
    "    print(Ordata.iloc[:,i:i+1].skew())\n",
    "    print(\"-------------------------\")"
   ]
  },
  {
   "cell_type": "code",
   "execution_count": 15,
   "id": "6fabbf90",
   "metadata": {},
   "outputs": [
    {
     "data": {
      "text/plain": [
       "(36733, 11)"
      ]
     },
     "execution_count": 15,
     "metadata": {},
     "output_type": "execute_result"
    }
   ],
   "source": [
    "Ordata.shape"
   ]
  },
  {
   "cell_type": "code",
   "execution_count": 4,
   "id": "f715eecc",
   "metadata": {},
   "outputs": [],
   "source": [
    "x = Ordata.iloc[:,0:9]\n",
    "y = Ordata.iloc[:,9:10] #CO\n",
    "z = Ordata.iloc[:,10:11] #NOX\n"
   ]
  },
  {
   "cell_type": "code",
   "execution_count": 5,
   "id": "58d3054d",
   "metadata": {},
   "outputs": [
    {
     "name": "stdout",
     "output_type": "stream",
     "text": [
      "(27549, 9)\n",
      "(9184, 9)\n",
      "(27549, 1)\n",
      "(9184, 1)\n",
      "Index(['AT', 'AP', 'AH', 'AFDP', 'GTEP', 'TIT', 'TAT', 'TEY', 'CDP'], dtype='object')\n",
      "Index(['AT', 'AP', 'AH', 'AFDP', 'GTEP', 'TIT', 'TAT', 'TEY', 'CDP'], dtype='object')\n",
      "Index(['CO'], dtype='object')\n",
      "Index(['CO'], dtype='object')\n"
     ]
    }
   ],
   "source": [
    "xtrainc,xtestc,ytrainc,ytestc = train_test_split(x,y,test_size=0.25)\n",
    "print(xtrainc.shape)\n",
    "print(xtestc.shape)\n",
    "print(ytrainc.shape)\n",
    "print(ytestc.shape)\n",
    "\n",
    "print(xtrainc.columns)\n",
    "print(xtestc.columns)\n",
    "print(ytrainc.columns)\n",
    "print(ytestc.columns)"
   ]
  },
  {
   "cell_type": "markdown",
   "id": "9e085913",
   "metadata": {},
   "source": [
    "# CO Model prediction"
   ]
  },
  {
   "cell_type": "code",
   "execution_count": 33,
   "id": "94457e6a",
   "metadata": {},
   "outputs": [
    {
     "name": "stdout",
     "output_type": "stream",
     "text": [
      "R2 Accuracy =  0.530913468438007\n",
      "Mean Absolute Error =  0.880912212372612\n",
      "Weight =  [[-0.05079696 -0.00481327 -0.00790062 -0.14268051  0.09851643 -0.07014661\n",
      "  -0.07521466 -0.18904053  1.92692307]]\n",
      "y =  [125.72634136]\n"
     ]
    }
   ],
   "source": [
    "lr = LinearRegression()\n",
    "lr.fit(xtrainc,ytrainc)\n",
    "pred1 = lr.predict(xtestc)\n",
    "print(\"R2 Accuracy = \",r2_score(ytestc,pred1))\n",
    "print(\"Mean Absolute Error = \",mean_absolute_error(ytestc,pred1))\n",
    "print(\"Weight = \",lr.coef_)\n",
    "print(\"y = \",lr.intercept_)"
   ]
  },
  {
   "cell_type": "code",
   "execution_count": 45,
   "id": "7cc8e693",
   "metadata": {},
   "outputs": [
    {
     "name": "stdout",
     "output_type": "stream",
     "text": [
      "R2 Accuracy =  -2.205782116944323e+28\n",
      "Mean Absolute Error =  367700994879485.7\n",
      "Weight =  [-1.55223303e+12 -1.18099785e+12 -9.47038474e+11 -5.63076062e+09\n",
      "  1.15237880e+11  1.04561503e+12  7.86254144e+11  7.68349578e+11\n",
      "  1.19641516e+10]\n",
      "y =  [-2.62496841e+09]\n"
     ]
    }
   ],
   "source": [
    "sgdr = SGDRegressor(loss='squared_error',penalty='l1')\n",
    "sgdr.fit(xtrainc,ytrainc)\n",
    "pred2 = sgdr.predict(xtestc)\n",
    "print(\"R2 Accuracy = \",r2_score(ytestc,pred2))\n",
    "print(\"Mean Absolute Error = \",mean_absolute_error(ytestc,pred2))\n",
    "print(\"Weight = \",sgdr.coef_)\n",
    "print(\"y = \",sgdr.intercept_)"
   ]
  },
  {
   "cell_type": "code",
   "execution_count": 52,
   "id": "02e4bc96",
   "metadata": {},
   "outputs": [
    {
     "name": "stdout",
     "output_type": "stream",
     "text": [
      "R2 Accuracy =  0.577531372007444\n",
      "Mean Absolute Error =  0.6958757862467335\n"
     ]
    }
   ],
   "source": [
    "dtr = DecisionTreeRegressor(criterion='absolute_error',splitter='best')\n",
    "dtr.fit(xtrainc,ytrainc)\n",
    "pred3 = dtr.predict(xtestc)\n",
    "print(\"R2 Accuracy = \",r2_score(ytestc,pred3))\n",
    "print(\"Mean Absolute Error = \",mean_absolute_error(ytestc,pred3))\n",
    "#print(\"Weight = \",dtr.coef_)\n",
    "#print(\"y = \",dtr.intercept_)"
   ]
  },
  {
   "cell_type": "code",
   "execution_count": 28,
   "id": "828ca1df",
   "metadata": {},
   "outputs": [
    {
     "name": "stdout",
     "output_type": "stream",
     "text": [
      "R2 Accuracy =  0.7315679458465287\n",
      "Mean Absolute Error =  0.49174542161197726\n"
     ]
    }
   ],
   "source": [
    "rfr = RandomForestRegressor(n_estimators=1000)\n",
    "rfr.fit(xtrainc,ytrainc)\n",
    "pred4 = rfr.predict(xtestc)\n",
    "print(\"R2 Accuracy = \",r2_score(ytestc,pred4))\n",
    "print(\"Mean Absolute Error = \",mean_absolute_error(ytestc,pred4))"
   ]
  },
  {
   "cell_type": "code",
   "execution_count": 11,
   "id": "cea4a1f4",
   "metadata": {},
   "outputs": [],
   "source": [
    "lr = LinearRegression()\n",
    "dtr = DecisionTreeRegressor(criterion='absolute_error',splitter='best')\n",
    "rfr = RandomForestRegressor()\n",
    "models = [('linear regression',lr),('decisiontreereg',dtr),('randomforestreg',rfr)]"
   ]
  },
  {
   "cell_type": "code",
   "execution_count": null,
   "id": "1e070324",
   "metadata": {},
   "outputs": [
    {
     "name": "stdout",
     "output_type": "stream",
     "text": [
      "linear regression 0.578\n",
      "decisiontreereg 0.58\n"
     ]
    }
   ],
   "source": [
    "for model in models:\n",
    "    score = cross_val_score(model[1],xtrainc,ytrainc,scoring='r2',cv=15)\n",
    "    print(model[0],np.round(np.mean(score),3))"
   ]
  },
  {
   "cell_type": "code",
   "execution_count": 12,
   "id": "67d7fa6f",
   "metadata": {},
   "outputs": [
    {
     "name": "stdout",
     "output_type": "stream",
     "text": [
      "R2 score =  0.659\n"
     ]
    }
   ],
   "source": [
    "lr = LinearRegression()\n",
    "dtr = DecisionTreeRegressor(criterion='absolute_error',splitter='best')\n",
    "rfr = RandomForestRegressor()\n",
    "models = [('linear regression',lr),('decisiontreereg',dtr)]\n",
    "vr = VotingRegressor(models)\n",
    "scores = cross_val_score(vr,xtrainc,ytrainc,scoring='r2',cv=12)\n",
    "print(\"R2 score = \",np.round(np.mean(scores),3))"
   ]
  },
  {
   "cell_type": "code",
   "execution_count": 54,
   "id": "943bb2e2",
   "metadata": {},
   "outputs": [
    {
     "name": "stdout",
     "output_type": "stream",
     "text": [
      "R2 Score =  0.7543209499548583\n"
     ]
    }
   ],
   "source": [
    "bgr = BaggingRegressor(estimator=DecisionTreeRegressor(splitter='random',max_depth=62),n_estimators=50,max_samples=0.7)\n",
    "bgr.fit(xtrainc,ytrainc)\n",
    "pred5 = bgr.predict(xtestc)\n",
    "print(\"R2 Score = \",r2_score(ytestc,pred5))"
   ]
  },
  {
   "cell_type": "code",
   "execution_count": 25,
   "id": "407b2678",
   "metadata": {},
   "outputs": [
    {
     "name": "stdout",
     "output_type": "stream",
     "text": [
      "R2 score =  0.7354080713094011\n"
     ]
    }
   ],
   "source": [
    "bgr1 = BaggingRegressor(estimator=RandomForestRegressor(),n_estimators=20,max_samples=0.5)\n",
    "bgr1.fit(xtrainc,ytrainc)\n",
    "pred6 = bgr1.predict(xtestc)\n",
    "print(\"R2 score = \",r2_score(ytestc,pred6))"
   ]
  },
  {
   "cell_type": "markdown",
   "id": "34befb1c",
   "metadata": {},
   "source": [
    "# NOX Prediction Model"
   ]
  },
  {
   "cell_type": "code",
   "execution_count": 40,
   "id": "93ccbcd5",
   "metadata": {},
   "outputs": [
    {
     "name": "stdout",
     "output_type": "stream",
     "text": [
      "Index(['AT', 'AP', 'AH', 'AFDP', 'GTEP', 'TIT', 'TAT', 'TEY', 'CDP'], dtype='object')\n",
      "Index(['NOX'], dtype='object')\n"
     ]
    }
   ],
   "source": [
    "x = Ordata.iloc[:,0:9]\n",
    "z = Ordata.iloc[:,10:11] #NOX\n",
    "print(x.columns)\n",
    "print(z.columns)"
   ]
  },
  {
   "cell_type": "code",
   "execution_count": 41,
   "id": "7633f6b8",
   "metadata": {},
   "outputs": [
    {
     "name": "stdout",
     "output_type": "stream",
     "text": [
      "(27549, 9)\n",
      "(9184, 9)\n",
      "(27549, 1)\n",
      "(9184, 1)\n",
      "Index(['AT', 'AP', 'AH', 'AFDP', 'GTEP', 'TIT', 'TAT', 'TEY', 'CDP'], dtype='object')\n",
      "Index(['AT', 'AP', 'AH', 'AFDP', 'GTEP', 'TIT', 'TAT', 'TEY', 'CDP'], dtype='object')\n",
      "Index(['NOX'], dtype='object')\n",
      "Index(['NOX'], dtype='object')\n"
     ]
    }
   ],
   "source": [
    "xtrainn,xtestn,ytrainn,ytestn = train_test_split(x,z,test_size=0.25)\n",
    "print(xtrainn.shape)\n",
    "print(xtestn.shape)\n",
    "print(ytrainn.shape)\n",
    "print(ytestn.shape)\n",
    "\n",
    "print(xtrainn.columns)\n",
    "print(xtestn.columns)\n",
    "print(ytrainn.columns)\n",
    "print(ytestn.columns)"
   ]
  },
  {
   "cell_type": "code",
   "execution_count": 42,
   "id": "712afcec",
   "metadata": {},
   "outputs": [
    {
     "name": "stdout",
     "output_type": "stream",
     "text": [
      "Index(['AT', 'AP', 'AH', 'AFDP', 'GTEP', 'TIT', 'TAT', 'TEY', 'CDP'], dtype='object')\n",
      "Index(['NOX'], dtype='object')\n"
     ]
    }
   ],
   "source": [
    "print(xtrainn.columns)\n",
    "print(ytrainn.columns)"
   ]
  },
  {
   "cell_type": "code",
   "execution_count": 43,
   "id": "a2d9e3ff",
   "metadata": {},
   "outputs": [
    {
     "name": "stdout",
     "output_type": "stream",
     "text": [
      "R2 Accuracy =  0.529600450434093\n",
      "Mean Absolute Error =  5.782888368180365\n",
      "Weight =  [[-1.7614702  -0.22106553 -0.21960249  0.82717057 -0.05828028  1.40233976\n",
      "  -1.50533963 -1.95600427 -1.70469754]]\n",
      "y =  [-76.87056946]\n"
     ]
    }
   ],
   "source": [
    "lr = LinearRegression()\n",
    "lr.fit(xtrainn,ytrainn)\n",
    "pred7 = lr.predict(xtestn)\n",
    "print(\"R2 Accuracy = \",r2_score(ytestn,pred7))\n",
    "print(\"Mean Absolute Error = \",mean_absolute_error(ytestn,pred7))\n",
    "print(\"Weight = \",lr.coef_)\n",
    "print(\"y = \",lr.intercept_)"
   ]
  },
  {
   "cell_type": "code",
   "execution_count": 45,
   "id": "3961cef4",
   "metadata": {},
   "outputs": [
    {
     "name": "stdout",
     "output_type": "stream",
     "text": [
      "R2 Accuracy =  0.7018181148537573\n",
      "Mean Absolute Error =  3.97576099738676\n"
     ]
    }
   ],
   "source": [
    "dtr = DecisionTreeRegressor(criterion='absolute_error',splitter='random')\n",
    "dtr.fit(xtrainn,ytrainn)\n",
    "pred8 = dtr.predict(xtestn)\n",
    "print(\"R2 Accuracy = \",r2_score(ytestn,pred8))\n",
    "print(\"Mean Absolute Error = \",mean_absolute_error(ytestn,pred8))"
   ]
  },
  {
   "cell_type": "code",
   "execution_count": 59,
   "id": "e15ece21",
   "metadata": {},
   "outputs": [
    {
     "name": "stdout",
     "output_type": "stream",
     "text": [
      "R2 Score =  0.8792075292349458\n"
     ]
    }
   ],
   "source": [
    "bgr1 = BaggingRegressor(estimator=DecisionTreeRegressor(splitter='random'),n_estimators=50)\n",
    "bgr1.fit(xtrainn,ytrainn)\n",
    "pred9 = bgr1.predict(xtestn)\n",
    "print(\"R2 Score = \",r2_score(ytestn,pred9))"
   ]
  },
  {
   "cell_type": "code",
   "execution_count": 60,
   "id": "e3fac695",
   "metadata": {},
   "outputs": [
    {
     "name": "stdout",
     "output_type": "stream",
     "text": [
      "BaggingRegressor(estimator=DecisionTreeRegressor(max_depth=62,\n",
      "                                                 splitter='random'),\n",
      "                 max_samples=0.7, n_estimators=50)\n",
      "\n",
      "\n",
      "BaggingRegressor(estimator=DecisionTreeRegressor(splitter='random'),\n",
      "                 n_estimators=50)\n"
     ]
    }
   ],
   "source": [
    "print(bgr)\n",
    "print(\"\\n\")\n",
    "print(bgr1)"
   ]
  },
  {
   "cell_type": "markdown",
   "id": "3670ca74",
   "metadata": {},
   "source": [
    "# Testing models"
   ]
  },
  {
   "cell_type": "code",
   "execution_count": 79,
   "id": "841a802b",
   "metadata": {},
   "outputs": [
    {
     "name": "stdout",
     "output_type": "stream",
     "text": [
      "Index(['AT', 'AP', 'AH', 'AFDP', 'GTEP', 'TIT', 'TAT', 'TEY', 'CDP'], dtype='object')\n",
      "          AT      AP      AH    AFDP    GTEP     TIT    TAT     TEY     CDP\n",
      "7852  11.145  999.83  100.17  5.3024  24.506  1085.0  549.8  134.48  11.787\n",
      "          CO\n",
      "7852  1.6401\n",
      "         NOX\n",
      "7852  75.007\n",
      "==================================================================================\n",
      "\n",
      "Predicted value = \n",
      "\n",
      "1.512\n",
      "75.0 3\n"
     ]
    }
   ],
   "source": [
    "import warnings\n",
    "warnings.filterwarnings('ignore')\n",
    "import numpy as np\n",
    "import pandas as pd \n",
    "import pickle\n",
    "data = pd.read_csv('datasets/gt_full.csv')\n",
    "data = data.sample(1)\n",
    "x = data.iloc[:,0:9]\n",
    "y = data.iloc[:,9:10] #CO\n",
    "z = data.iloc[:,10:11] #NOX\n",
    "\n",
    "print(x.columns)\n",
    "\n",
    "\n",
    "head = x\n",
    "zhead = z\n",
    "yhead = y\n",
    "print(head)\n",
    "print(yhead)\n",
    "print(zhead)\n",
    "\n",
    "print(\"==================================================================================\\n\")\n",
    "print(\"Predicted value = \\n\")\n",
    "#loading models \n",
    "\n",
    "with open('models\\pred_model_co.pkl','rb') as co_model,open('models\\pred_model_nox.pkl','rb') as nox_model:\n",
    "    co_model = pickle.load(co_model)\n",
    "    nox_model = pickle.load(nox_model)\n",
    "\n",
    "pred = co_model.predict(head)\n",
    "pred1 = nox_model.predict(head)\n",
    "\n",
    "print(np.round(pred[0],3))\n",
    "print(np.round(pred1[0]),3)\n"
   ]
  },
  {
   "cell_type": "code",
   "execution_count": null,
   "id": "7ca33660",
   "metadata": {},
   "outputs": [],
   "source": []
  }
 ],
 "metadata": {
  "kernelspec": {
   "display_name": "Python 3 (ipykernel)",
   "language": "python",
   "name": "python3"
  },
  "language_info": {
   "codemirror_mode": {
    "name": "ipython",
    "version": 3
   },
   "file_extension": ".py",
   "mimetype": "text/x-python",
   "name": "python",
   "nbconvert_exporter": "python",
   "pygments_lexer": "ipython3",
   "version": "3.9.12"
  }
 },
 "nbformat": 4,
 "nbformat_minor": 5
}
